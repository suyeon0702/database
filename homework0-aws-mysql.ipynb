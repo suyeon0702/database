{
 "cells": [
  {
   "cell_type": "markdown",
   "metadata": {},
   "source": [
    "# Homework 0: AWS MySQL\n",
    "\n",
    "1. Create AWS account (Recommend to use AWS Educate Program)\n",
    "2. Create AWS RDS mysql instance\n",
    "3. Use Google Colabortory and do your homework.\n",
    "3. (In Google colaboratory) Restart kernel and run all. (Runtime-> restart and run all)\n",
    "4. Save (File->Save) the file\n",
    "5. Submit your homework (this file) in Google classroom\n",
    "6. **Don't forget to click \"제출\" button** (\"Submit\", \"완료로 표시\", 또는 \"제출\" 버턴을 누르지 않으면 제출된 것이 아님)\n",
    "7. No late homework is accepted for any reasons!"
   ]
  },
  {
   "cell_type": "code",
   "execution_count": null,
   "metadata": {},
   "outputs": [],
   "source": [
    "%load_ext sql"
   ]
  },
  {
   "cell_type": "code",
   "execution_count": null,
   "metadata": {},
   "outputs": [],
   "source": [
    "!pip install pymysql"
   ]
  },
  {
   "cell_type": "markdown",
   "metadata": {},
   "source": [
    "## You must use your own host name, not mine, not someone else\n",
    "## You must use your user name and password, not mine."
   ]
  },
  {
   "cell_type": "code",
   "execution_count": null,
   "metadata": {},
   "outputs": [],
   "source": [
    "import getpass\n",
    "user = 'admin'\n",
    "password = getpass.getpass()\n",
    "host='ksohndb.c8hr4dzksmx8.us-east-2.rds.amazonaws.com'\n",
    "database = ''\n",
    "connection_string = f'mysql+pymysql://{user}:{password}@{host}:3306/{database}'\n",
    "    \n",
    "%sql $connection_string"
   ]
  },
  {
   "cell_type": "markdown",
   "metadata": {},
   "source": [
    "## Create companydb and load data\n",
    "## Whenever database is corrupted, run this cell"
   ]
  },
  {
   "cell_type": "code",
   "execution_count": null,
   "metadata": {},
   "outputs": [],
   "source": [
    "%%sql\n",
    "\n",
    "SET @OLD_UNIQUE_CHECKS=@@UNIQUE_CHECKS, UNIQUE_CHECKS=0;\n",
    "SET @OLD_FOREIGN_KEY_CHECKS=@@FOREIGN_KEY_CHECKS, FOREIGN_KEY_CHECKS=0;\n",
    "\n",
    "DROP DATABASE IF EXISTS companydb;\n",
    "CREATE DATABASE IF NOT EXISTS companydb;\n",
    "USE companydb;\n",
    "\n",
    "DROP TABLE IF EXISTS DEPENDENT;\n",
    "DROP TABLE IF EXISTS WORKS_ON;\n",
    "DROP TABLE IF EXISTS PROJECT;\n",
    "DROP TABLE IF EXISTS DEPT_LOCATIONS;\n",
    "DROP TABLE IF EXISTS DEPARTMENT;\n",
    "DROP TABLE IF EXISTS EMPLOYEE;\n",
    "\n",
    "CREATE TABLE EMPLOYEE\n",
    "(       Fname VARCHAR(15) NOT NULL,\n",
    "        Minit CHAR,\n",
    "        Lname VARCHAR(15) NOT NULL,\n",
    "        Ssn CHAR(9) NOT NULL,\n",
    "        Bdate DATE,\n",
    "        Address VARCHAR(30),\n",
    "        Sex CHAR,\n",
    "        Salary DECIMAL(10, 2),\n",
    "        Superssn CHAR(9),\n",
    "        Dno INT,\n",
    "        PRIMARY KEY (Ssn),\n",
    "        FOREIGN KEY (Superssn) \n",
    "                REFERENCES EMPLOYEE(Ssn) \n",
    "                ON DELETE SET NULL\n",
    "                ON UPDATE CASCADE,\n",
    "        FOREIGN KEY (Dno) \n",
    "                REFERENCES DEPARTMENT(Dnumber)\n",
    "                ON DELETE SET NULL\n",
    "                ON UPDATE CASCADE\n",
    ") ENGINE=InnoDB;\n",
    "\n",
    "\n",
    "CREATE TABLE DEPARTMENT\n",
    "(       Dname VARCHAR(15) NOT NULL,\n",
    "        Dnumber INT NOT NULL,\n",
    "        Mgrssn CHAR(9),\n",
    "        Mgrstartdate DATE,\n",
    "        PRIMARY KEY (Dnumber),\n",
    "        UNIQUE (Dname),\n",
    "        FOREIGN KEY (Mgrssn) \n",
    "                REFERENCES EMPLOYEE(Ssn)\n",
    "                ON DELETE SET NULL\n",
    "                ON UPDATE CASCADE\n",
    ") ENGINE=InnoDB;\n",
    "\n",
    "\n",
    "CREATE TABLE DEPT_LOCATIONS\n",
    "(       Dnumber INT NOT NULL,\n",
    "        Dlocation VARCHAR(15) NOT NULL,\n",
    "        PRIMARY KEY (Dnumber, Dlocation),\n",
    "        FOREIGN KEY (Dnumber)\n",
    "                REFERENCES DEPARTMENT(Dnumber) \n",
    "                ON DELETE CASCADE\n",
    "                ON UPDATE CASCADE\n",
    ") ENGINE=InnoDB;\n",
    "\n",
    "\n",
    "CREATE TABLE PROJECT\n",
    "(       Pname VARCHAR(15) NOT NULL,\n",
    "        Pnumber INT NOT NULL,\n",
    "        Plocation VARCHAR(15),\n",
    "        Dnum INT,\n",
    "        PRIMARY KEY (Pnumber),\n",
    "        UNIQUE (Pname),\n",
    "        FOREIGN KEY (Dnum) \n",
    "                REFERENCES DEPARTMENT(Dnumber)\n",
    "                ON DELETE SET NULL\n",
    "                ON UPDATE CASCADE\n",
    ") ENGINE=InnoDB;\n",
    "\n",
    "\n",
    "CREATE TABLE WORKS_ON\n",
    "(       Essn CHAR(9) NOT NULL,\n",
    "        Pno INT NOT NULL,\n",
    "        Hours DECIMAL(3, 1) ,\n",
    "        PRIMARY KEY (Essn, Pno),\n",
    "        FOREIGN KEY (Essn) \n",
    "                REFERENCES EMPLOYEE(Ssn)\n",
    "                ON DELETE CASCADE\n",
    "                ON UPDATE CASCADE,\n",
    "        FOREIGN KEY (Pno) \n",
    "                REFERENCES PROJECT(Pnumber)\n",
    "                ON DELETE CASCADE\n",
    "                ON UPDATE CASCADE\n",
    ") ENGINE=InnoDB;\n",
    "\n",
    "\n",
    "CREATE TABLE DEPENDENT\n",
    "(       Essn CHAR(9) NOT NULL,\n",
    "        Dependent_name VARCHAR(15) NOT NULL,\n",
    "        Sex CHAR,\n",
    "        Bdate DATE,\n",
    "        Relationship VARCHAR(8),\n",
    "        PRIMARY KEY (Essn, Dependent_name),\n",
    "        FOREIGN KEY (Essn) \n",
    "                REFERENCES EMPLOYEE(Ssn)\n",
    "                ON DELETE CASCADE\n",
    "                ON UPDATE CASCADE\n",
    ") ENGINE=InnoDB;\n",
    "\n",
    "\n",
    "insert into EMPLOYEE values\n",
    "        (\"John\", \"B\", \"Smith\", \"123456789\",\"1965-01-09\", \"731-Fondren-Houston-TX\", \"M\", 30000, \"333445555\", 5),\n",
    "        (\"Franklin\", \"T\", \"Wong\", \"333445555\",\"1955-12-08\", \"638-Voss-Houston-TX\", \"M\", 40000, \"888665555\", 5),\n",
    "        (\"Alicia\", \"J\", \"Zelaya\", \"999887777\", \"1968-01-19\", \"3321-Castle-Spring-TX\", \"F\", 25000, \"987654321\", 4),\n",
    "        (\"Jennifer\", \"S\", \"Wallace\", \"987654321\", \"1941-06-20\", \"291-Berry-Bellaire-TX\", \"F\", 43000, \"888665555\", 4),\n",
    "        (\"Ramesh\", \"K\", \"Narayan\", \"666884444\", \"1962-09-15\", \"975-Fire-Oak-Humble-TX\", \"M\", 38000, \"333445555\", 5),\n",
    "        (\"Joyce\", \"A\", \"English\", \"453453453\", \"1972-07-31\", \"5631-Rice-Houston-TX\", \"F\", 25000, \"333445555\", 5),\n",
    "        (\"Ahmad\", \"V\", \"Jabbar\", \"987987987\", \"1969-03-29\", \"980-Dallas-Houston-TX\", \"M\", 25000, \"987654321\", 4),\n",
    "        (\"James\", \"E\", \"Borg\", \"888665555\", \"1937-11-10\", \"450-Stone-Houston-TX\", \"M\", 55000, NULL, 1);\n",
    "\n",
    "\n",
    "insert into DEPENDENT  values \n",
    "        (333445555, \"Alice\", \"F\",\"1986-04-05\", \"Daughter\"),\n",
    "        (333445555, \"Theodore\", \"M\",\"1983-10-25\", \"Son\"),\n",
    "        (333445555, \"Joy\", \"F\",\"1958-05-03\", \"Spouse\"),\n",
    "        (987654321, \"Abner\", \"M\",\"1942-02-28\", \"Spouse\"),\n",
    "        (123456789, \"Michael\", \"M\",\"1988-01-04\", \"Son\"),\n",
    "        (123456789, \"Alice\", \"F\", \"1988-12-30\", \"Daughter\"),\n",
    "        (123456789, \"Elizabeth\", \"F\", \"1967-05-05\", \"Spouse\");\n",
    "\n",
    "\n",
    "insert into DEPARTMENT values \n",
    "        (\"Research\", 5, 333445555,\"1988-05-22\"),\n",
    "        (\"Administration\", 4, 987654321,\"1995-01-01\"),\n",
    "        (\"Headquarters\", 1, 888665555,\"1981-06-19\");\n",
    "\n",
    "insert into DEPT_LOCATIONS values \n",
    "        (1, \"Houston\"),\n",
    "        (4, \"Stafford\"),\n",
    "        (5, \"Bellaire\"),\n",
    "        (5, \"Sugarland\"),\n",
    "        (5, \"Houston\");\n",
    "\n",
    "\n",
    "insert into PROJECT values \n",
    "        (\"ProductX\", 1, \"Bellaire\", 5),\n",
    "        (\"ProductY\", 2, \"Sugarland\", 5),\n",
    "        (\"ProductZ\", 3, \"Houston\", 5),\n",
    "        (\"Computerization\", 10, \"Stafford\", 4),\n",
    "        (\"Reorganization\", 20, \"Houston\", 1),\n",
    "        (\"Newbenefits\", 30, \"Stafford\", 4);\n",
    "\n",
    "\n",
    "insert into WORKS_ON values\n",
    "        (123456789, 1, 32.5),\n",
    "        (123456789, 2, 7.5),\n",
    "        (666884444, 3, 40.0),\n",
    "        (453453453, 1, 20.0),\n",
    "        (453453453, 2, 20.0),\n",
    "        (333445555, 2, 10.0),\n",
    "        (333445555, 3, 10.0),\n",
    "        (333445555, 10, 10.0),\n",
    "        (333445555, 20, 10.0),\n",
    "        (999887777, 30, 30.0),\n",
    "        (999887777, 10, 10.0),\n",
    "        (987987987, 10, 35.0),\n",
    "        (987987987, 30, 5.0),\n",
    "        (987654321, 30, 20.0),\n",
    "        (987654321, 20, 15.0),\n",
    "        (888665555, 20, NULL); \n",
    "\n",
    "SET UNIQUE_CHECKS=@OLD_UNIQUE_CHECKS;\n",
    "SET FOREIGN_KEY_CHECKS=@OLD_FOREIGN_KEY_CHECKS;"
   ]
  },
  {
   "cell_type": "markdown",
   "metadata": {},
   "source": [
    "## Check if everything is done successfully"
   ]
  },
  {
   "cell_type": "code",
   "execution_count": null,
   "metadata": {},
   "outputs": [],
   "source": [
    "%sql show databases;"
   ]
  },
  {
   "cell_type": "code",
   "execution_count": null,
   "metadata": {},
   "outputs": [],
   "source": [
    "%sql show tables;"
   ]
  },
  {
   "cell_type": "code",
   "execution_count": null,
   "metadata": {},
   "outputs": [],
   "source": [
    "%sql select * from EMPLOYEE;"
   ]
  },
  {
   "cell_type": "code",
   "execution_count": null,
   "metadata": {},
   "outputs": [],
   "source": [
    "%sql select * from DEPENDENT;"
   ]
  },
  {
   "cell_type": "code",
   "execution_count": null,
   "metadata": {},
   "outputs": [],
   "source": [
    "%sql select * from DEPARTMENT;"
   ]
  },
  {
   "cell_type": "code",
   "execution_count": null,
   "metadata": {},
   "outputs": [],
   "source": [
    "%sql select * from DEPT_LOCATIONS;"
   ]
  },
  {
   "cell_type": "code",
   "execution_count": null,
   "metadata": {},
   "outputs": [],
   "source": [
    "%sql select * from PROJECT;"
   ]
  },
  {
   "cell_type": "code",
   "execution_count": null,
   "metadata": {},
   "outputs": [],
   "source": [
    "%sql select * from WORKS_ON;"
   ]
  },
  {
   "cell_type": "markdown",
   "metadata": {},
   "source": [
    "# DO NOT EDIT THIS:\n",
    "\n",
    "SCORE:"
   ]
  }
 ],
 "metadata": {
  "kernelspec": {
   "display_name": "Python 3",
   "language": "python",
   "name": "python3"
  },
  "language_info": {
   "codemirror_mode": {
    "name": "ipython",
    "version": 3
   },
   "file_extension": ".py",
   "mimetype": "text/x-python",
   "name": "python",
   "nbconvert_exporter": "python",
   "pygments_lexer": "ipython3",
   "version": "3.7.6"
  }
 },
 "nbformat": 4,
 "nbformat_minor": 4
}
